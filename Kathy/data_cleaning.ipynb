{
 "cells": [
  {
   "cell_type": "code",
   "execution_count": 2,
   "metadata": {},
   "outputs": [],
   "source": [
    "import pandas as pd\n",
    "from pathlib import Path"
   ]
  },
  {
   "cell_type": "code",
   "execution_count": 3,
   "metadata": {},
   "outputs": [],
   "source": [
    "# Read the CSV housing_data file from the Resources folder into a Pandas DataFrame\n",
    "housing_data = Path(\"Resources/housing_data.csv\")\n",
    "df_housing = pd.read_csv(housing_data)"
   ]
  },
  {
   "cell_type": "code",
   "execution_count": 4,
   "metadata": {},
   "outputs": [],
   "source": [
    "# Read the CSV income_data file from the Resources folder into a Pandas DataFrame\n",
    "income_data = Path(\"Resources/income_data.csv\")\n",
    "df_income = pd.read_csv(income_data)"
   ]
  },
  {
   "cell_type": "code",
   "execution_count": 5,
   "metadata": {},
   "outputs": [
    {
     "name": "stdout",
     "output_type": "stream",
     "text": [
      "Initial Housing Data:\n",
      "<class 'pandas.core.frame.DataFrame'>\n",
      "RangeIndex: 21613 entries, 0 to 21612\n",
      "Data columns (total 21 columns):\n",
      " #   Column         Non-Null Count  Dtype  \n",
      "---  ------         --------------  -----  \n",
      " 0   id             21613 non-null  int64  \n",
      " 1   date           21613 non-null  object \n",
      " 2   price          21613 non-null  float64\n",
      " 3   bedrooms       21613 non-null  int64  \n",
      " 4   bathrooms      21613 non-null  float64\n",
      " 5   sqft_living    21613 non-null  int64  \n",
      " 6   sqft_lot       21613 non-null  int64  \n",
      " 7   floors         21613 non-null  float64\n",
      " 8   waterfront     21613 non-null  int64  \n",
      " 9   view           21613 non-null  int64  \n",
      " 10  condition      21613 non-null  int64  \n",
      " 11  grade          21613 non-null  int64  \n",
      " 12  sqft_above     21613 non-null  int64  \n",
      " 13  sqft_basement  21613 non-null  int64  \n",
      " 14  yr_built       21613 non-null  int64  \n",
      " 15  yr_renovated   21613 non-null  int64  \n",
      " 16  zipcode        21613 non-null  int64  \n",
      " 17  lat            21613 non-null  float64\n",
      " 18  long           21613 non-null  float64\n",
      " 19  sqft_living15  21613 non-null  int64  \n",
      " 20  sqft_lot15     21613 non-null  int64  \n",
      "dtypes: float64(5), int64(15), object(1)\n",
      "memory usage: 3.5+ MB\n",
      "None\n",
      "\n",
      "Initial Income Data:\n",
      "<class 'pandas.core.frame.DataFrame'>\n",
      "RangeIndex: 27658 entries, 0 to 27657\n",
      "Data columns (total 6 columns):\n",
      " #   Column        Non-Null Count  Dtype  \n",
      "---  ------        --------------  -----  \n",
      " 0   state         27658 non-null  object \n",
      " 1   zipcode       27658 non-null  int64  \n",
      " 2   total_pop     27658 non-null  int64  \n",
      " 3   total_income  27658 non-null  int64  \n",
      " 4   country       27658 non-null  object \n",
      " 5   avg_income    27658 non-null  float64\n",
      "dtypes: float64(1), int64(3), object(2)\n",
      "memory usage: 1.3+ MB\n",
      "None\n"
     ]
    }
   ],
   "source": [
    "# Display initial data info\n",
    "print(\"Initial Housing Data:\")\n",
    "print(df_housing.info())\n",
    "print(\"\\nInitial Income Data:\")\n",
    "print(df_income.info())"
   ]
  },
  {
   "cell_type": "code",
   "execution_count": 6,
   "metadata": {},
   "outputs": [],
   "source": [
    "# Keep only the necessary columns\n",
    "df_housing = df_housing[['zipcode', 'price', 'sqft_lot']]\n",
    "df_income = df_income[['zipcode', 'state']]"
   ]
  },
  {
   "cell_type": "code",
   "execution_count": 7,
   "metadata": {},
   "outputs": [
    {
     "data": {
      "text/html": [
       "<div>\n",
       "<style scoped>\n",
       "    .dataframe tbody tr th:only-of-type {\n",
       "        vertical-align: middle;\n",
       "    }\n",
       "\n",
       "    .dataframe tbody tr th {\n",
       "        vertical-align: top;\n",
       "    }\n",
       "\n",
       "    .dataframe thead th {\n",
       "        text-align: right;\n",
       "    }\n",
       "</style>\n",
       "<table border=\"1\" class=\"dataframe\">\n",
       "  <thead>\n",
       "    <tr style=\"text-align: right;\">\n",
       "      <th></th>\n",
       "      <th>zipcode</th>\n",
       "      <th>price</th>\n",
       "      <th>sqft_lot</th>\n",
       "      <th>state</th>\n",
       "    </tr>\n",
       "  </thead>\n",
       "  <tbody>\n",
       "    <tr>\n",
       "      <th>0</th>\n",
       "      <td>98178</td>\n",
       "      <td>231300.0</td>\n",
       "      <td>5650</td>\n",
       "      <td>WA</td>\n",
       "    </tr>\n",
       "    <tr>\n",
       "      <th>1</th>\n",
       "      <td>98125</td>\n",
       "      <td>538000.0</td>\n",
       "      <td>7242</td>\n",
       "      <td>WA</td>\n",
       "    </tr>\n",
       "    <tr>\n",
       "      <th>2</th>\n",
       "      <td>98028</td>\n",
       "      <td>180000.0</td>\n",
       "      <td>10000</td>\n",
       "      <td>WA</td>\n",
       "    </tr>\n",
       "    <tr>\n",
       "      <th>3</th>\n",
       "      <td>98136</td>\n",
       "      <td>604000.0</td>\n",
       "      <td>5000</td>\n",
       "      <td>WA</td>\n",
       "    </tr>\n",
       "    <tr>\n",
       "      <th>4</th>\n",
       "      <td>98074</td>\n",
       "      <td>510000.0</td>\n",
       "      <td>8080</td>\n",
       "      <td>WA</td>\n",
       "    </tr>\n",
       "    <tr>\n",
       "      <th>...</th>\n",
       "      <td>...</td>\n",
       "      <td>...</td>\n",
       "      <td>...</td>\n",
       "      <td>...</td>\n",
       "    </tr>\n",
       "    <tr>\n",
       "      <th>21608</th>\n",
       "      <td>98103</td>\n",
       "      <td>360000.0</td>\n",
       "      <td>1131</td>\n",
       "      <td>WA</td>\n",
       "    </tr>\n",
       "    <tr>\n",
       "      <th>21609</th>\n",
       "      <td>98146</td>\n",
       "      <td>400000.0</td>\n",
       "      <td>5813</td>\n",
       "      <td>WA</td>\n",
       "    </tr>\n",
       "    <tr>\n",
       "      <th>21610</th>\n",
       "      <td>98144</td>\n",
       "      <td>402101.0</td>\n",
       "      <td>1350</td>\n",
       "      <td>WA</td>\n",
       "    </tr>\n",
       "    <tr>\n",
       "      <th>21611</th>\n",
       "      <td>98027</td>\n",
       "      <td>400000.0</td>\n",
       "      <td>2388</td>\n",
       "      <td>WA</td>\n",
       "    </tr>\n",
       "    <tr>\n",
       "      <th>21612</th>\n",
       "      <td>98144</td>\n",
       "      <td>325000.0</td>\n",
       "      <td>1076</td>\n",
       "      <td>WA</td>\n",
       "    </tr>\n",
       "  </tbody>\n",
       "</table>\n",
       "<p>21613 rows × 4 columns</p>\n",
       "</div>"
      ],
      "text/plain": [
       "       zipcode     price  sqft_lot state\n",
       "0        98178  231300.0      5650    WA\n",
       "1        98125  538000.0      7242    WA\n",
       "2        98028  180000.0     10000    WA\n",
       "3        98136  604000.0      5000    WA\n",
       "4        98074  510000.0      8080    WA\n",
       "...        ...       ...       ...   ...\n",
       "21608    98103  360000.0      1131    WA\n",
       "21609    98146  400000.0      5813    WA\n",
       "21610    98144  402101.0      1350    WA\n",
       "21611    98027  400000.0      2388    WA\n",
       "21612    98144  325000.0      1076    WA\n",
       "\n",
       "[21613 rows x 4 columns]"
      ]
     },
     "execution_count": 7,
     "metadata": {},
     "output_type": "execute_result"
    }
   ],
   "source": [
    "# Merge the two datasets on 'zipcode'\n",
    "merged_housing_income_data = pd.merge(df_housing, df_income, on='zipcode', how='inner')\n",
    "\n",
    "merged_housing_income_data"
   ]
  },
  {
   "cell_type": "code",
   "execution_count": 8,
   "metadata": {},
   "outputs": [],
   "source": [
    "# Remove duplicates (if any)\n",
    "merged_housing_income_data.drop_duplicates(inplace=True)\n",
    "\n",
    "# Handle missing values (if any)\n",
    "merged_housing_income_data.dropna(inplace=True)  # Drop rows with missing values\n",
    "# merged_data.fillna(0, inplace=True)  # Option to fill missing values with 0\n",
    "\n",
    "# Reset index for clean output\n",
    "merged_housing_income_data.reset_index(drop=True, inplace=True)"
   ]
  },
  {
   "cell_type": "code",
   "execution_count": 9,
   "metadata": {},
   "outputs": [
    {
     "name": "stdout",
     "output_type": "stream",
     "text": [
      "\n",
      "Cleaned Merged Data:\n",
      "<class 'pandas.core.frame.DataFrame'>\n",
      "RangeIndex: 21529 entries, 0 to 21528\n",
      "Data columns (total 4 columns):\n",
      " #   Column    Non-Null Count  Dtype  \n",
      "---  ------    --------------  -----  \n",
      " 0   zipcode   21529 non-null  int64  \n",
      " 1   price     21529 non-null  float64\n",
      " 2   sqft_lot  21529 non-null  int64  \n",
      " 3   state     21529 non-null  object \n",
      "dtypes: float64(1), int64(2), object(1)\n",
      "memory usage: 672.9+ KB\n",
      "None\n",
      "   zipcode     price  sqft_lot state\n",
      "0    98178  231300.0      5650    WA\n",
      "1    98125  538000.0      7242    WA\n",
      "2    98028  180000.0     10000    WA\n",
      "3    98136  604000.0      5000    WA\n",
      "4    98074  510000.0      8080    WA\n"
     ]
    }
   ],
   "source": [
    "# Display cleaned data info\n",
    "print(\"\\nCleaned Merged Data:\")\n",
    "print(merged_housing_income_data.info())\n",
    "print(merged_housing_income_data.head())"
   ]
  },
  {
   "cell_type": "code",
   "execution_count": 10,
   "metadata": {},
   "outputs": [],
   "source": [
    "# Save the cleaned data to a new CSV file in the Resources folder\n",
    "output_file = Path(\"merged_housing_income_data.csv\")\n",
    "merged_housing_income_data.to_csv(output_file, index=False)"
   ]
  }
 ],
 "metadata": {
  "kernelspec": {
   "display_name": "base",
   "language": "python",
   "name": "python3"
  },
  "language_info": {
   "codemirror_mode": {
    "name": "ipython",
    "version": 3
   },
   "file_extension": ".py",
   "mimetype": "text/x-python",
   "name": "python",
   "nbconvert_exporter": "python",
   "pygments_lexer": "ipython3",
   "version": "3.12.4"
  }
 },
 "nbformat": 4,
 "nbformat_minor": 2
}
